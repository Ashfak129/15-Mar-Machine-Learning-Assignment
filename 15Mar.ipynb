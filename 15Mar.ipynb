{
 "cells": [
  {
   "cell_type": "code",
   "execution_count": null,
   "id": "294dc6eb-44cc-41f6-a4f6-4845c7f6d417",
   "metadata": {},
   "outputs": [],
   "source": [
    "Q1: Explain the following with an example:\n",
    "    1. Artificial Intelligence\n",
    "    2. Machine Learning\n",
    "    3. Deep Learning"
   ]
  },
  {
   "cell_type": "code",
   "execution_count": null,
   "id": "738441a4-e053-4767-aff2-95ccdaac2a72",
   "metadata": {},
   "outputs": [],
   "source": [
    "Ans:- Artificial Intelligence (AI) refers to the development of computer systems that can perform\n",
    "tasks that typically require human intelligence, such as learning, reasoning, perception, and decision\n",
    "-making. AI can be divided into two types: narrow or weak AI, which is designed to perform a specific \n",
    "task, and general or strong AI, which aims to mimic human intelligence in all its facets.\n",
    "    Example: A chatbot that uses natural language processing (NLP) to understand and respond to human\n",
    "queries.\n",
    "      Machine Learning (ML) is a subset of AI that involves the development of algorithms and statistical \n",
    "models that enable computer systems to learn from data and improve their performance on a specific task \n",
    "without being explicitly programmed. In other words, ML algorithms can identify patterns in data and use \n",
    "them to make predictions or decisions.\n",
    "    Example: A recommendation system that suggests products or content to users based on their past behavior\n",
    "or preferences.\n",
    "      Deep Learning (DL) is a subset of ML that uses artificial neural networks to learn and improve performance \n",
    "on a specific task. Deep neural networks are composed of multiple layers of interconnected nodes that can identify\n",
    "complex patterns and relationships in data, making them particularly well-suited for tasks such as image or speech\n",
    "recognition.\n",
    "    Example: A self-driving car that uses deep learning algorithms to analyze sensor data and make decisions in \n",
    "real-time.\n"
   ]
  },
  {
   "cell_type": "code",
   "execution_count": null,
   "id": "1b959c35-d6b5-47bb-8fc0-d31fd28f2963",
   "metadata": {},
   "outputs": [],
   "source": []
  },
  {
   "cell_type": "code",
   "execution_count": null,
   "id": "4f5a4681-8123-4ac0-add2-11adfecbacd6",
   "metadata": {},
   "outputs": [],
   "source": [
    "Q2.What is supervised learning? List some example of supervised learning."
   ]
  },
  {
   "cell_type": "code",
   "execution_count": null,
   "id": "1b6e9144-d633-4e60-a88b-a7d28ea90d2c",
   "metadata": {},
   "outputs": [],
   "source": [
    "Ans:- Supervised learning is a type of machine learning in which an algorithm learns to predict outputs based on\n",
    "labeled input data. This means that the algorithm is provided with a set of input/output pairs (i.e., labeled data)\n",
    "and it learns to map the inputs to the outputs through a process of trial and error. During training, the algorithm\n",
    "adjusts its parameters to minimize the error between its predictions and the true outputs.\n",
    "    Some examples of supervised learning are-\n",
    "(I)Recommendation systems\n",
    "(II)Customer churn prediction\n",
    "(III)Time series forecasting"
   ]
  },
  {
   "cell_type": "code",
   "execution_count": null,
   "id": "eada35c6-6ebd-4fb6-b7a4-75f47cf1daa9",
   "metadata": {},
   "outputs": [],
   "source": []
  },
  {
   "cell_type": "code",
   "execution_count": null,
   "id": "8ee65991-ff09-4fe4-841e-687fed1dbcbb",
   "metadata": {},
   "outputs": [],
   "source": [
    "Q3.What is unsupervised learning? List some example of unsupervised learning"
   ]
  },
  {
   "cell_type": "code",
   "execution_count": null,
   "id": "56af9ff5-a341-4ced-9fc6-65fba8837de8",
   "metadata": {},
   "outputs": [],
   "source": [
    "Ans:- Unsupervised learning is a type of machine learning where the algorithm learns patterns and relationships in\n",
    "data without any labeled or pre-defined output. In other words, the model is tasked with finding structure and patterns\n",
    "in the input data on its own.\n",
    "    Some examples of unsupervised learning are-\n",
    "(I)Clustering algorithms\n",
    "(II)Anomaly detection\n",
    "(III)Association rule learning\n"
   ]
  },
  {
   "cell_type": "code",
   "execution_count": null,
   "id": "944412ed-f35f-4c55-8c75-be5bbbeaeba4",
   "metadata": {},
   "outputs": [],
   "source": []
  },
  {
   "cell_type": "code",
   "execution_count": null,
   "id": "297692f2-d765-411d-b20c-7abf2609a329",
   "metadata": {},
   "outputs": [],
   "source": [
    "Q4. What is the difference between AI, ML, DL and DS?"
   ]
  },
  {
   "cell_type": "code",
   "execution_count": null,
   "id": "2276495d-4330-459f-8ee5-36f520f08b09",
   "metadata": {},
   "outputs": [],
   "source": [
    "Ans:- Artificial Intelligence (AI): AI is a broad field that involves creating intelligent machines that can perform\n",
    "tasks that normally require human intelligence, such as visual perception, speech recognition, decision-making, and\n",
    "natural language processing. AI encompasses a wide range of techniques, including machine learning and deep learning,\n",
    "as well as rule-based systems, expert systems, and evolutionary algorithms.\n",
    "    Machine Learning (ML): ML is a subset of AI that involves teaching machines to learn patterns and relationships \n",
    "in data, without being explicitly programmed. In other words, the machine is trained on a large dataset to find patterns\n",
    "and relationships in the data, which can then be used to make predictions or decisions on new, unseen data.\n",
    "    Deep Learning (DL): DL is a subset of ML that involves using neural networks with multiple layers to learn increasingly\n",
    "complex representations of data. DL algorithms are particularly good at recognizing patterns in large, unstructured datasets,\n",
    "such as images, video, and audio.\n",
    "    Data Science (DS): Data Science is the combination of AI, ML, DL."
   ]
  },
  {
   "cell_type": "code",
   "execution_count": null,
   "id": "17819d85-2455-4208-9c38-b6467fd898a1",
   "metadata": {},
   "outputs": [],
   "source": []
  },
  {
   "cell_type": "code",
   "execution_count": null,
   "id": "a5509fce-2a12-46f1-9b5a-138093a24cef",
   "metadata": {},
   "outputs": [],
   "source": [
    "Q5.What are the main differences between supervised, unsupervised, and semi-supervised learning?"
   ]
  },
  {
   "cell_type": "code",
   "execution_count": null,
   "id": "530f8c70-3f67-43bb-8884-9b4ae6dbd26a",
   "metadata": {},
   "outputs": [],
   "source": [
    "Ans:- Supervised, unsupervised, and semi-supervised learning are three main categories of machine learning. The main \n",
    "differences between these three types of learning are:\n",
    "    Supervised Learning: Supervised learning is a type of machine learning where the model is trained on labeled data,\n",
    "meaning the data is already labeled with the correct outputs. The goal of supervised learning is to predict the correct\n",
    "output for new, unseen data based on the input features. This type of learning involves a clear mapping between the input\n",
    "and the output variables. Examples of supervised learning algorithms include regression, classification, and decision trees.\n",
    "    Unsupervised Learning: Unsupervised learning is a type of machine learning where the model is trained on unlabeled\n",
    "data, meaning the data does not have any pre-defined output. The goal of unsupervised learning is to identify patterns,\n",
    "relationships, and structure in the data. This type of learning does not involve any clear mapping between input and \n",
    "output variables. Examples of unsupervised learning algorithms include clustering, principal component analysis (PCA),\n",
    "and autoencoders.\n",
    "    Semi-Supervised Learning: Semi-supervised learning is a type of machine learning that combines both labeled and unlabeled\n",
    "data. The goal of semi-supervised learning is to use the labeled data to help the model learn the underlying patterns and \n",
    "structure of the data, and then use that knowledge to make predictions on new, unseen data. This type of learning is particularly\n",
    "useful when labeled data is expensive or time-consuming to obtain. Examples of semi-supervised learning algorithms include self\n",
    "-training, co-training, and multi-view learning.\n",
    "\n"
   ]
  },
  {
   "cell_type": "code",
   "execution_count": null,
   "id": "39ae5432-bdf9-47aa-a40d-80bbfd4f25cf",
   "metadata": {},
   "outputs": [],
   "source": []
  },
  {
   "cell_type": "code",
   "execution_count": null,
   "id": "5a22d1b5-0de2-4503-a255-806d0fd7588a",
   "metadata": {},
   "outputs": [],
   "source": [
    "Q6.What is train, test and validation split? Explain the importance of each term?"
   ]
  },
  {
   "cell_type": "code",
   "execution_count": null,
   "id": "ca7d2a91-11b3-43cb-8f69-84cab910c53b",
   "metadata": {},
   "outputs": [],
   "source": [
    "Ans:- Training Set: The training set is the subset of the data used to train a machine learning model. The model is trained\n",
    "on this set, using input features and corresponding target outputs (in supervised learning), to learn the patterns and \n",
    "relationships in the data.\n",
    "    Test Set: The test set is the subset of the data used to evaluate the performance of a trained machine learning model.\n",
    "The model is tested on this set, using input features only, to see how well it generalizes to new, unseen data. The test \n",
    "set is used to estimate the performance of the model on new, unseen data.\n",
    "    Validation Set: The validation set is a subset of the data used to tune the hyperparameters of a machine learning model.\n",
    "Hyperparameters are parameters that are set prior to training and control the learning process, such as the learning rate,\n",
    "regularization strength, or number of hidden layers. The validation set is used to evaluate the performance of the model on\n",
    "new data, with different hyperparameters, and to choose the best hyperparameters for the model.\n",
    "    The importance of each term is as follows:\n",
    "    Training Set: The training set is crucial for the model to learn the patterns and relationships in the data. Without a good\n",
    "training set, the model cannot generalize to new, unseen data.\n",
    "    Test Set: The test set is important for evaluating the performance of the model on new, unseen data. It is used to estimate\n",
    "how well the model will perform in the real world.\n",
    "    Validation Set: The validation set is important for tuning the hyperparameters of the model. By evaluating the performance\n",
    "of the model on new data with different hyperparameters, we can choose the best hyperparameters for the model. This helps to\n",
    "prevent overfitting to the training set, where the model becomes too specialized to the training data and performs poorly on new,\n",
    "unseen data."
   ]
  },
  {
   "cell_type": "code",
   "execution_count": null,
   "id": "56090f0c-b99f-4ff9-9c75-a509323245c2",
   "metadata": {},
   "outputs": [],
   "source": []
  },
  {
   "cell_type": "code",
   "execution_count": null,
   "id": "0c0d9b63-d481-4829-b2cd-d1d936325238",
   "metadata": {},
   "outputs": [],
   "source": [
    "Q7.How can unsupervised learning be used in anomoly detection?"
   ]
  },
  {
   "cell_type": "code",
   "execution_count": null,
   "id": "1a248fdd-8b7d-4870-8ff2-964e5f3de0cf",
   "metadata": {},
   "outputs": [],
   "source": [
    "Ans:- Unsupervised learning can be used in anomaly detection by identifying patterns in data that deviate significantly from\n",
    "the norm or expected behavior. Anomaly detection is the process of identifying data points or events that are rare, unusual,\n",
    "or unexpected compared to the typical behavior of the system or population.\n",
    "    One way to use unsupervised learning in anomaly detection is by using clustering algorithms to group data points based on\n",
    "their similarity. Clustering algorithms such as k-means or hierarchical clustering can identify clusters of data points that\n",
    "are similar to each other and different from the rest of the data. If a data point falls far from any cluster, it could be \n",
    "considered an anomaly."
   ]
  },
  {
   "cell_type": "code",
   "execution_count": null,
   "id": "02386aa0-fab7-400e-8532-87ac69fb581f",
   "metadata": {},
   "outputs": [],
   "source": []
  },
  {
   "cell_type": "code",
   "execution_count": null,
   "id": "526bc0f8-9983-445b-b9e0-080925c6f7f4",
   "metadata": {},
   "outputs": [],
   "source": [
    "Q8.List down some commonly used supervised learning algorithms and unsupervised learning algorithms.\n"
   ]
  },
  {
   "cell_type": "code",
   "execution_count": null,
   "id": "8fcd8e0d-800e-4b3a-bf87-d60f68bfa4df",
   "metadata": {},
   "outputs": [],
   "source": [
    "Ans:- Sure, here are some commonly used supervised and unsupervised learning algorithms:\n",
    "    Supervised Learning:\n",
    "(I)Linear Regression\n",
    "(II)Logistic Regression\n",
    "(III)Decision Trees\n",
    "(IV)Random Forests\n",
    "(V)Naive Bayes\n",
    "(VI)K-Nearest Neighbors (KNN)\n",
    "(VII)Support Vector Machines (SVM)\n",
    "(VIII)Neural Networks (Multilayer Perceptron)\n",
    "    Unsupervised Learning:\n",
    "K-Means Clustering\n",
    "    Hierarchical Clustering\n",
    "    Principal Component Analysis (PCA)\n",
    "    Singular Value Decomposition (SVD)\n",
    "    Gaussian Mixture Models (GMM)\n",
    "    Association Rule Learning (Apriori Algorithm)\n",
    "    Anomaly Detection (Isolation Forest, Local Outlier Factor)\n",
    "    Self-Organizing Maps (SOM)"
   ]
  },
  {
   "cell_type": "code",
   "execution_count": null,
   "id": "77792829-3c08-4665-9b9b-6e1597a87179",
   "metadata": {},
   "outputs": [],
   "source": []
  },
  {
   "cell_type": "code",
   "execution_count": null,
   "id": "e2632da6-11ec-44dc-9f54-48a4cae12861",
   "metadata": {},
   "outputs": [],
   "source": []
  }
 ],
 "metadata": {
  "kernelspec": {
   "display_name": "Python 3 (ipykernel)",
   "language": "python",
   "name": "python3"
  },
  "language_info": {
   "codemirror_mode": {
    "name": "ipython",
    "version": 3
   },
   "file_extension": ".py",
   "mimetype": "text/x-python",
   "name": "python",
   "nbconvert_exporter": "python",
   "pygments_lexer": "ipython3",
   "version": "3.10.8"
  }
 },
 "nbformat": 4,
 "nbformat_minor": 5
}
